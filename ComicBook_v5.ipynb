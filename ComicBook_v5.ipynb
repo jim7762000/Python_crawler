{
 "cells": [
  {
   "cell_type": "markdown",
   "metadata": {},
   "source": [
    "# 下載漫畫使用說明:\n",
    "    1.目標網址：http://www.cartoonmad.com/\n",
    "    2.第一次使用：\n",
    "        Step1：創一個資料夾叫 Comicbooks!!(只要執行一次就好)\n",
    "        Step2：把所有function都先定義完\n",
    "        Step3：新增一個下載排程LIST, ex： downloadlist=[[\"進擊的巨人\",\"WWW.xxx\"],[\"onepiece\",\"www.xxxx\"]]其中的網址請先搜尋貼上\n",
    "        step4：main for loop step3的list，call downloadplan(comicbookname,url) function \n",
    "    3.之後要載別的漫畫需要改的地方：\n",
    "        (1)Step3的list排程重key\n",
    "        (2)Step4直接執行\n",
    "    4.當漫畫有更新，輸入漫畫名(資料夾中的命名)與url，可自動下載新更新的部份"
   ]
  },
  {
   "cell_type": "code",
   "execution_count": null,
   "metadata": {
    "collapsed": true
   },
   "outputs": [],
   "source": [
    "# Step1 創一個資料夾叫 Comicbooks!!(執行一次就好)\n",
    "#create a new folder called \"Comicbooks\"\n",
    "import os\n",
    "os.makedirs('Comicbooks/', exist_ok=True)"
   ]
  },
  {
   "cell_type": "code",
   "execution_count": 47,
   "metadata": {},
   "outputs": [],
   "source": [
    "# Step2 把所有function都先定義完\n",
    "\n",
    "#1.downloadplan 將前面的都串起來，先新增一個資料夾(ex：進擊的巨人)\n",
    "#用get_chapter_url 抓此漫畫的第幾話與每一話的url，\n",
    "#再用一個for loop 裡面call download_chapter 把所有的漫畫下載\n",
    "def downloadplan(comicbookname,url):\n",
    "    downloadcomicbook(comicbookname)\n",
    "    for chapter,url in get_chapter_url(url):\n",
    "        download_chapter(chapter,url,get_chapter_totalpage(url),comicbookname)\n",
    "    print(comicbookname+ \" Done^^\")\n",
    "\n",
    "\n",
    "#2.downloadcomicbook：開一個你要下載漫畫的資料夾 EX:進擊的巨人\n",
    "#input 漫畫名稱\n",
    "import os\n",
    "def downloadcomicbook(comicbookname):\n",
    "    os.makedirs('Comicbooks/'+comicbookname, exist_ok=True)\n",
    "\n",
    "    \n",
    "#3.get_chapter_url 輸入想要爬的漫畫網址到url中，程式執行完會得到一個LIST[[\"001話\",url],[\"002話\",url],[\"003話\",url],[\"004話\",url]....[\"最後一話\",url]]\n",
    "import requests as r\n",
    "from bs4 import BeautifulSoup\n",
    "def get_chapter_url(url):\n",
    "    #url要手動換爬的網址\n",
    "    #url =\"http://www.cartoonmad.com/comic/1090.html\"\n",
    "    head={\"Accept\":\"text/html,application/xhtml+xml,application/xml;q=0.9,image/webp,image/apng,*/*;q=0.8\",\n",
    "        \"Accept-Encoding\":\"gzip, deflate\",\n",
    "        \"Accept-Language\":\"zh-TW,zh;q=0.9,en-US;q=0.8,en;q=0.7\",\n",
    "        \"Cache-Control\":\"max-age=0\",\n",
    "        \"Connection\":\"keep-alive\",\n",
    "        \"Cookie\":\"ASPSESSIONIDCSRQBDAR=IIHNKLGBLAANGAGLGLAEMNFJ; __utma=42881207.392990975.1522250582.1522250582.1522250582.1; __utmc=42881207; __utmz=42881207.1522250582.1.1.utmcsr=google|utmccn=(organic)|utmcmd=organic|utmctr=(not%20provided); __utmt=1; chname=%7C%B7s%A5%7C%C5X%A4p%A4l%7C%B6i%C0%BB%AA%BA%A5%A8%A4H; chid=%7C07609%7C01221; __utmb=42881207.10.10.1522250582\",\n",
    "        \"Host\":\"www.cartoonmad.com\",\n",
    "        \"Referer\":\"http://www.cartoonmad.com/\",\n",
    "        \"Upgrade-Insecure-Requests\":\"1\",\n",
    "        \"User-Agent\":\"Mozilla/5.0 (iPhone; CPU iPhone OS 10_3 like Mac OS X) AppleWebKit/602.1.50 (KHTML, like Gecko) CriOS/56.0.2924.75 Mobile/14E5239e Safari/602.1\"}\n",
    "    res=r.get(url,headers=head)\n",
    "    res.encoding=\"big5\"\n",
    "    page=res.text\n",
    "    chapter_html=[] #宣告一個list 到時候要塞第幾話跟url\n",
    "    soup = BeautifulSoup(page, 'lxml') # html5lib\n",
    "    for index in soup.select('#info td a'):\n",
    "        chapter=index.text\n",
    "        chapter_url=\"http://www.cartoonmad.com\"+index[\"href\"]\n",
    "        if len(index.text.split(\"第\"))>1:\n",
    "            chapter_html.append([chapter,chapter_url])\n",
    "    return chapter_html\n",
    "   \n",
    "    \n",
    "#4.download chapter：下載每一話\n",
    "#input1： chapternumber:第000話\n",
    "#input2： urlinput:要下載此話的url\n",
    "#total_chapter_page：此話有幾頁\n",
    "#comicbookname：漫畫名稱\n",
    "import os\n",
    "def download_chapter(chapternumber,urlinput,total_chapter_page,comicbookname):\n",
    "    os.makedirs('Comicbooks/'+ comicbookname +'/'+chapternumber, exist_ok=True) #先新增此話的資料夾 ex 第001話\n",
    "    for i in range(1,int(total_chapter_page)+1):#開始下載此話的第1張到最後一張\n",
    "        url=\"http://www.cartoonmad.com/comic/\"+str(int(urlinput.split(\"/\")[4].split(\".\")[0])+i-1)+\".html\"\n",
    "        url_pic=find_url_pic(url)#輸入網址後 找到真的下載圖片的url\n",
    "        filename='Comicbooks/'+ comicbookname +'/'+chapternumber+'/'+str(i)+\".jpg\" #先創好下載圖片的filename ex 1.jpg\n",
    "        downloadpic(url_pic,filename) #將下載圖片的url 與 filename當input 進行下載圖片\n",
    "\n",
    "        \n",
    "#5.get_chapter_totalpage：找到此話的總頁數\n",
    "import requests as r\n",
    "from bs4 import BeautifulSoup\n",
    "def get_chapter_totalpage(urlinput):\n",
    "    url =urlinput\n",
    "    head={\"Accept\":\"text/html,application/xhtml+xml,application/xml;q=0.9,image/webp,image/apng,*/*;q=0.8\",\n",
    "    \"Accept-Encoding\":\"gzip, deflate\",\n",
    "    \"Accept-Language\":\"zh-TW,zh;q=0.9,en-US;q=0.8,en;q=0.7\",\n",
    "    \"Cache-Control\":\"max-age=0\",\n",
    "    \"Connection\":\"keep-alive\",\n",
    "    \"Cookie\":\"ASPSESSIONIDCSRQBDAR=IIHNKLGBLAANGAGLGLAEMNFJ; __utma=42881207.392990975.1522250582.1522250582.1522250582.1; __utmc=42881207; __utmz=42881207.1522250582.1.1.utmcsr=google|utmccn=(organic)|utmcmd=organic|utmctr=(not%20provided); __utmt=1; chname=%7C%B7s%A5%7C%C5X%A4p%A4l%7C%B6i%C0%BB%AA%BA%A5%A8%A4H; chid=%7C07609%7C01221; __utmb=42881207.10.10.1522250582\",\n",
    "    \"Host\":\"www.cartoonmad.com\",\n",
    "    \"Referer\":\"http://www.cartoonmad.com/\",\n",
    "    \"Upgrade-Insecure-Requests\":\"1\",\n",
    "    \"User-Agent\":\"Mozilla/5.0 (iPhone; CPU iPhone OS 10_3 like Mac OS X) AppleWebKit/602.1.50 (KHTML, like Gecko) CriOS/56.0.2924.75 Mobile/14E5239e Safari/602.1\"}\n",
    "\n",
    "    res=r.get(url,headers=head)\n",
    "    res.encoding=\"big5\"\n",
    "    page=res.text\n",
    "    soup = BeautifulSoup(page, 'lxml') # html5lib\n",
    "    total_chapter_page=soup.select(\".pages\")[-2].text\n",
    "    return total_chapter_page           \n",
    "        \n",
    "\n",
    "#6.find_url_pic：給url 找到下載圖片的網址\n",
    "import requests as r\n",
    "from bs4 import BeautifulSoup\n",
    "import re\n",
    "def find_url_pic(url):\n",
    "    head={\"Accept\":\"text/html,application/xhtml+xml,application/xml;q=0.9,image/webp,image/apng,*/*;q=0.8\",\n",
    "          \"Accept-Encoding\":\"gzip, deflate\",\n",
    "          \"Accept-Language\":\"zh-TW,zh;q=0.9,en-US;q=0.8,en;q=0.7\",\n",
    "          \"Cache-Control\":\"max-age=0\",\n",
    "          \"Connection\":\"keep-alive\",\n",
    "          \"Cookie\":\"ASPSESSIONIDCSRQBDAR=IIHNKLGBLAANGAGLGLAEMNFJ; __utma=42881207.392990975.1522250582.1522250582.1522250582.1; __utmc=42881207; __utmz=42881207.1522250582.1.1.utmcsr=google|utmccn=(organic)|utmcmd=organic|utmctr=(not%20provided); chname=%7C%B6i%C0%BB%AA%BA%A5%A8%A4H%7C%B7s%A5%7C%C5X%A4p%A4l; chid=%7C01221%7C07609; __utmt=1; __utmb=42881207.15.10.1522250582\",\n",
    "          \"Host\":\"www.cartoonmad.com\",\n",
    "          \"Upgrade-Insecure-Requests\":\"1\",\n",
    "          \"Referer\":\"http://www.cartoonmad.com/comic/1221.html\",\n",
    "          \"User-Agent\":\"Mozilla/5.0 (iPhone; CPU iPhone OS 10_3 like Mac OS X) AppleWebKit/602.1.50 (KHTML, like Gecko) CriOS/56.0.2924.75 Mobile/14E5239e Safari/602.1\"}\n",
    "\n",
    "    res=r.get(url,headers=head)\n",
    "    res.encoding=\"big5\"\n",
    "    chapger_page=res.text\n",
    "    url_pic=re.findall('''http://we[b23456]+.cartoonmad.com/.{1,50}.jpg''',chapger_page)[0] #找下載照片的URL\n",
    "    return url_pic\n",
    "\n",
    "\n",
    "\n",
    "#7.downloadpic：下載圖片\n",
    "import requests\n",
    "import shutil\n",
    "def downloadpic(url,filename):\n",
    "    head={\"User-Agent\": \"Mozilla/5.0 (Windows NT 10.0; Win64; x64) AppleWebKit/537.36 (KHTML, like Gecko) Chrome/65.0.3325.181 Safari/537.36\"\n",
    "         }\n",
    "    res=r.get(url,headers=head,stream=True)\n",
    "    with open(filename,'wb') as f:\n",
    "        shutil.copyfileobj(res.raw,f)\n",
    "    print(filename+\" DONE!!\")\n",
    "\n",
    "#8.downloadplan_getnewchapter 找到新更新的部份並下載\n",
    "def download_getnewchapter(comicbookname,url):\n",
    "    alllist=get_chapter_url(url)\n",
    "    downloadedlist=get_downloaded_list(comicbookname)\n",
    "    need_list=[]\n",
    "    for chapter,url in alllist:#比對此漫話目前網頁上所有的話(alllist) 跟 目前已經載下來的(downloaded)差別，多的就append到need_list中\n",
    "        if chapter not in downloadedlist:\n",
    "            need_list.append([chapter,url])\n",
    "            #print(need_list)\n",
    "    if len(need_list)>0:#判斷是否需要更新\n",
    "        for chapter,url in need_list:\n",
    "            print(\"You need update: \"+comicbookname+\" \"+chapter)#告訴使用者需要更新的部份是\n",
    "            download_chapter(chapter,url,get_chapter_totalpage(url),comicbookname)#下載新更新的部份\n",
    "                \n",
    "        print(comicbookname+ \" update done^^\")\n",
    "    else:\n",
    "        print(comicbookname+\" don't need to update\")\n",
    "    \n",
    "    \n",
    "\n",
    "\n",
    "#9.找到目前已經下載的話數list glob the already downloaded list\n",
    "import glob\n",
    "def get_downloaded_list(comicbookname):\n",
    "    list=[]\n",
    "    for g in glob.glob('Comicbooks/'+comicbookname+'/*'):\n",
    "        list.append(g.split(\"\\\\\")[1])\n",
    "    return list    \n",
    "    \n"
   ]
  },
  {
   "cell_type": "code",
   "execution_count": null,
   "metadata": {
    "collapsed": true
   },
   "outputs": [],
   "source": [
    "#Step 3 新增一個list 我要下載漫畫的排程，請手key\n",
    "downloadlist=[[\"犬夜叉\",\"http://www.cartoonmad.com/comic/1143.html\"],\n",
    "              [\"網球王子\",\"http://www.cartoonmad.com/comic/1081.html\"],\n",
    "              [\"魔導少年\",\"http://www.cartoonmad.com/comic/1153.html\"],\n",
    "              [\"火星異種\",\"http://www.cartoonmad.com/comic/1952.html\"],\n",
    "              [\"噬魂師\",\"http://www.cartoonmad.com/comic/1141.html\"]]\n",
    "downloadlist"
   ]
  },
  {
   "cell_type": "code",
   "execution_count": null,
   "metadata": {
    "collapsed": true
   },
   "outputs": [],
   "source": [
    "#Step 4 main 用一個FOR LOOP跑我剛新增的排程LIST\n",
    "for comicbookname,url in downloadlist:\n",
    "    downloadplan(comicbookname,url)"
   ]
  },
  {
   "cell_type": "code",
   "execution_count": 43,
   "metadata": {},
   "outputs": [
    {
     "data": {
      "text/plain": [
       "[['OnePiece', 'http://www.cartoonmad.com/comic/1152.html'],\n",
       " ['驚爆遊戲', 'http://www.cartoonmad.com/comic/1313.html'],\n",
       " ['我的英雄學院', 'http://www.cartoonmad.com/comic/4085.html'],\n",
       " ['博人傳BORUTO', 'http://www.cartoonmad.com/comic/5033.html'],\n",
       " ['進擊的巨人', 'http://www.cartoonmad.com/comic/1221.html']]"
      ]
     },
     "execution_count": 43,
     "metadata": {},
     "output_type": "execute_result"
    }
   ],
   "source": [
    "#step 5 新增一個想要更新的漫畫list，請手key!!\n",
    "updatelist=[[\"OnePiece\",\"http://www.cartoonmad.com/comic/1152.html\"],\n",
    "            [\"驚爆遊戲\",\"http://www.cartoonmad.com/comic/1313.html\"],\n",
    "            [\"我的英雄學院\",\"http://www.cartoonmad.com/comic/4085.html\"],\n",
    "            [\"博人傳BORUTO\",\"http://www.cartoonmad.com/comic/5033.html\"],\n",
    "            [\"進擊的巨人\",\"http://www.cartoonmad.com/comic/1221.html\"]]\n",
    "updatelist"
   ]
  },
  {
   "cell_type": "code",
   "execution_count": 46,
   "metadata": {},
   "outputs": [
    {
     "name": "stdout",
     "output_type": "stream",
     "text": [
      "OnePiece don't need update\n",
      "驚爆遊戲 don't need update\n",
      "我的英雄學院 don't need update\n",
      "博人傳BORUTO don't need update\n",
      "進擊的巨人 don't need update\n"
     ]
    }
   ],
   "source": [
    "#Step 6 main 照想要更新的漫畫依序check與更新\n",
    "for comicbookname,url in updatelist:\n",
    "    downloadplan_getnewchapter(comicbookname,url)"
   ]
  },
  {
   "cell_type": "code",
   "execution_count": 14,
   "metadata": {},
   "outputs": [],
   "source": []
  },
  {
   "cell_type": "code",
   "execution_count": null,
   "metadata": {},
   "outputs": [],
   "source": []
  }
 ],
 "metadata": {
  "kernelspec": {
   "display_name": "Python 3",
   "language": "python",
   "name": "python3"
  },
  "language_info": {
   "codemirror_mode": {
    "name": "ipython",
    "version": 3
   },
   "file_extension": ".py",
   "mimetype": "text/x-python",
   "name": "python",
   "nbconvert_exporter": "python",
   "pygments_lexer": "ipython3",
   "version": "3.6.4"
  }
 },
 "nbformat": 4,
 "nbformat_minor": 2
}
