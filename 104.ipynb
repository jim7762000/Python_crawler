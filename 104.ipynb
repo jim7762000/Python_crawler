{
 "cells": [
  {
   "cell_type": "code",
   "execution_count": 72,
   "metadata": {},
   "outputs": [
    {
     "name": "stdout",
     "output_type": "stream",
     "text": [
      "page: 1 is done\n",
      "page: 2 is done\n",
      "page: 3 is done\n",
      "page: 4 is done\n",
      "page: 5 is done\n",
      "page: 6 is done\n",
      "page: 7 is done\n",
      "page: 8 is done\n",
      "page: 9 is done\n",
      "page: 10 is done\n",
      "page: 11 is done\n",
      "page: 12 is done\n",
      "page: 13 is done\n",
      "page: 14 is done\n",
      "page: 15 is done\n",
      "page: 16 is done\n",
      "page: 17 is done\n",
      "page: 18 is done\n",
      "page: 19 is done\n",
      "page: 20 is done\n",
      "page: 21 is done\n",
      "page: 22 is done\n",
      "page: 23 is done\n",
      "page: 24 is done\n",
      "page: 25 is done\n",
      "page: 26 is done\n",
      "page: 27 is done\n",
      "page: 28 is done\n",
      "page: 29 is done\n",
      "page: 30 is done\n",
      "page: 31 is done\n",
      "page: 32 is done\n",
      "page: 33 is done\n",
      "page: 34 is done\n",
      "page: 35 is done\n",
      "page: 36 is done\n",
      "page: 37 is done\n",
      "page: 38 is done\n",
      "page: 39 is done\n",
      "page: 40 is done\n",
      "page: 41 is done\n",
      "page: 42 is done\n",
      "page: 43 is done\n",
      "page: 44 is done\n",
      "page: 45 is done\n",
      "page: 46 is done\n",
      "page: 47 is done\n",
      "page: 48 is done\n",
      "page: 49 is done\n"
     ]
    }
   ],
   "source": [
    "import requests as r\n",
    "\n",
    "url=\"https://www.104.com.tw/jobs/search/list\"\n",
    "qs={\"ro\": 0,\n",
    "    \"keyword\": \"SWIFT\",\n",
    "    \"order\": 1,\n",
    "    \"asc\": 0,\n",
    "    \"kwop\": 7,\n",
    "    \"page\": 1,\n",
    "    \"mode\": 's',\n",
    "    \"jobsource\": \"n104bank1\"}\n",
    "\n",
    "for i in range(1,50):\n",
    "    res=r.get(url,params=qs,headers={\"User-Agent\": \"Mozilla/5.0 (Windows NT 10.0; Win64; x64) AppleWebKit/537.36 (KHTML, like Gecko) Chrome/65.0.3325.181 Safari/537.36\"})\n",
    "    #res.json().keys()\n",
    "    saveall2file(res,qs[\"page\"])\n",
    "    print(\"page: \"+str(qs[\"page\"])+\" is done\")\n",
    "    qs[\"page\"]+=1\n",
    "    \n"
   ]
  },
  {
   "cell_type": "code",
   "execution_count": 73,
   "metadata": {},
   "outputs": [
    {
     "data": {
      "text/plain": [
       "{'User-Agent': 'Mozilla/5.0 (Windows NT 10.0; Win64; x64) AppleWebKit/537.36 (KHTML, like Gecko) Chrome/65.0.3325.181 Safari/537.36', 'Accept-Encoding': 'gzip, deflate', 'Accept': '*/*', 'Connection': 'keep-alive'}"
      ]
     },
     "execution_count": 73,
     "metadata": {},
     "output_type": "execute_result"
    }
   ],
   "source": [
    "res.request.headers"
   ]
  },
  {
   "cell_type": "code",
   "execution_count": 58,
   "metadata": {},
   "outputs": [
    {
     "data": {
      "text/plain": [
       "'APP開發工程師'"
      ]
     },
     "execution_count": 58,
     "metadata": {},
     "output_type": "execute_result"
    }
   ],
   "source": [
    "res.json()['data']['list'][1]['jobName']"
   ]
  },
  {
   "cell_type": "code",
   "execution_count": 59,
   "metadata": {},
   "outputs": [
    {
     "data": {
      "text/plain": [
       "{'appearDate': '20180320',\n",
       " 'appearDateDesc': '3/20',\n",
       " 'applyCnt': '00008',\n",
       " 'applyDate': '',\n",
       " 'applyDesc': '6~10人應徵',\n",
       " 'coIndustry': '',\n",
       " 'coIndustryDesc': '',\n",
       " 'custName': '薩摩亞商絕勝國際股份有限公司',\n",
       " 'custNo': '130000000092405',\n",
       " 'descSnippet': '',\n",
       " 'description': '1. Android或iOS手機開發設計及程式撰寫(擇一即可)\\r\\n2.製作APP模版及維護APP應用\\r\\n3.執行軟體架構及模組之設計',\n",
       " 'isApply': '0',\n",
       " 'isSave': '0',\n",
       " 'jobAddrNoDesc': '台北市內湖區',\n",
       " 'jobAddress': '基湖路一號6樓',\n",
       " 'jobName': 'APP開發工程師',\n",
       " 'jobNameSnippet': 'APP開發工程師',\n",
       " 'jobNo': '10130096',\n",
       " 'jobRo': '1',\n",
       " 'jobRole': '1',\n",
       " 'jobType': '1',\n",
       " 'jobsource': 'hotjob_chr',\n",
       " 'link': {'applyAnalyze': '//www.104.com.tw/jobbank/joblist/apply_analyze.cfm?j=484e466f3c704d2534363f695a323a6313c3e466f383a426b40463e21212121631483e642a47j56&channel=104rpt&jobsource=hotjob_chr',\n",
       "  'cust': '//www.104.com.tw/jobbank/custjob/index.php?r=cust&j=484e466f3c704d2534363f695a323a6313c3e466f383a426b40463e21212121631483e642a47j56&jobsource=hotjob_chr',\n",
       "  'job': '//www.104.com.tw/job/?jobno=614fk&jobsource=hotjob_chr'},\n",
       " 'optionEdu': '高中',\n",
       " 'optionZone': '4198408',\n",
       " 'period': '03',\n",
       " 'periodDesc': '2年以上',\n",
       " 'salaryDesc': '面議',\n",
       " 'salaryHigh': '00990',\n",
       " 'salaryLow': '00990',\n",
       " 'tags': ['外商公司', '員工50人']}"
      ]
     },
     "execution_count": 59,
     "metadata": {},
     "output_type": "execute_result"
    }
   ],
   "source": [
    "res.json()['data']['list'][1]"
   ]
  },
  {
   "cell_type": "code",
   "execution_count": 21,
   "metadata": {},
   "outputs": [
    {
     "data": {
      "text/plain": [
       "list"
      ]
     },
     "execution_count": 21,
     "metadata": {},
     "output_type": "execute_result"
    }
   ],
   "source": [
    "type(res.json()['data']['list'])"
   ]
  },
  {
   "cell_type": "code",
   "execution_count": 41,
   "metadata": {},
   "outputs": [],
   "source": [
    "def save2file(filename,text):\n",
    "    \"\"\"args:\n",
    "            filename<Str>: filename of the file\n",
    "            text<str>: text content to be saved\n",
    "    \"\"\"\n",
    "    with open(filename,'w',encoding=\"utf-8\") as f:\n",
    "        f.write(text)"
   ]
  },
  {
   "cell_type": "code",
   "execution_count": 42,
   "metadata": {
    "scrolled": true
   },
   "outputs": [
    {
     "name": "stdout",
     "output_type": "stream",
     "text": [
      "手機應用程式設計師\n",
      "IOS工程師(台中市)\n",
      "iOS Engineer\n",
      "iOS Engineer\n",
      "iOS/OS X 高級工程師\n",
      "【教研所】APP程式設計師\n",
      "行動App應用軟體開發人員\n",
      "iOS 軟體工程師\n",
      "數位智能傳動產品 - APP開發工程師\n",
      "iOS App開發人員\n",
      "iOS APP 軟體開發工程師\n",
      "智能軟件設計主管\n",
      "【2018新幹班】05.軟韌體工程類\n",
      "技術部門主管\n",
      "iOS 軟體工程師\n",
      "軟體電腦工程師\n",
      "iOS 工程師/ IT Consultant (Mobile)\n",
      "APP開發工程師\n",
      "iOS 工程師 (cocos2d )\n",
      "APP工程師_T0004-3\n"
     ]
    }
   ],
   "source": [
    "for data in res.json()['data']['list']:\n",
    "    print(data['jobName'])\n",
    "    #save2file(\"/104/skill\",data['jobName']+\"\\n\")\n",
    "        "
   ]
  },
  {
   "cell_type": "code",
   "execution_count": 69,
   "metadata": {},
   "outputs": [],
   "source": [
    "def saveall2file(res,page):\n",
    "    all=\"\"\n",
    "    for data in res.json()['data']['list']:\n",
    "        all+=data['jobName']+\"\\n\"\n",
    "    save2file(\"104/page\"+str(page)+\".txt\",all)\n",
    "              "
   ]
  },
  {
   "cell_type": "code",
   "execution_count": null,
   "metadata": {},
   "outputs": [],
   "source": []
  }
 ],
 "metadata": {
  "kernelspec": {
   "display_name": "Python 3",
   "language": "python",
   "name": "python3"
  },
  "language_info": {
   "codemirror_mode": {
    "name": "ipython",
    "version": 3
   },
   "file_extension": ".py",
   "mimetype": "text/x-python",
   "name": "python",
   "nbconvert_exporter": "python",
   "pygments_lexer": "ipython3",
   "version": "3.6.4"
  }
 },
 "nbformat": 4,
 "nbformat_minor": 2
}
