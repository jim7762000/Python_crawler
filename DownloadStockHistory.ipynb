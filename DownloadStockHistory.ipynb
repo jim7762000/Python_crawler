{
 "cells": [
  {
   "cell_type": "code",
   "execution_count": 5,
   "metadata": {},
   "outputs": [],
   "source": [
    "code_list=[\"0050\",\n",
    "\"0051\",\n",
    "\"0052\",\n",
    "\"0053\",\n",
    "\"0054\",\n",
    "\"0055\",\n",
    "\"0056\",\n",
    "\"0057\",\n",
    "\"0058\",\n",
    "\"0059\"\n",
    "     ]"
   ]
  },
  {
   "cell_type": "code",
   "execution_count": 6,
   "metadata": {},
   "outputs": [],
   "source": [
    "import datetime\n",
    "def DiffSecondBetweenP1P2(period1_y,period1_m,period1_d,period2_y,period2_m,period2_d):\n",
    "    p1 = datetime.datetime(period1_y, period1_m, period1_d)\n",
    "    p2 = datetime.datetime(period2_y, period2_m, period2_d)\n",
    "    diff=(p2-p1).days\n",
    "    return diff*86400"
   ]
  },
  {
   "cell_type": "code",
   "execution_count": 7,
   "metadata": {},
   "outputs": [],
   "source": [
    "def save2file(filename,text):\n",
    "    \"\"\"args:\n",
    "            filename<Str>: filename of the file\n",
    "            text<str>: text content to be saved\n",
    "    \"\"\"\n",
    "    with open(filename,'w',encoding=\"utf-8\") as f:\n",
    "        f.write(text)"
   ]
  },
  {
   "cell_type": "code",
   "execution_count": 10,
   "metadata": {},
   "outputs": [],
   "source": [
    "import requests as r\n",
    "def download(code,p1_y,p1_m,p1_d,p2_y,p2_m,p2_d):\n",
    "    banch20180324=1521820800\n",
    "    \n",
    "    period1=banch20180324-DiffSecondBetweenP1P2(p1_y,p1_m,p1_d,2018,3,24)\n",
    "    period2=banch20180324+DiffSecondBetweenP1P2(2018,3,24,p2_y,p2_m,p2_d)\n",
    "    \n",
    "    url =\"https://query1.finance.yahoo.com/v7/finance/download/\"+code+\".TW\"\n",
    "    qs={\"period1\":111,\n",
    "    \"period2\":222,\n",
    "    \"interval\":\"1d\",\n",
    "    \"events\":\"history\",\n",
    "    \"crumb\":\"EPeqoZIU.sE\"}\n",
    "    \n",
    "    qs[\"period1\"]=period1\n",
    "    qs[\"period2\"]=period2\n",
    "    \n",
    "    res=r.get(url,params=qs,headers={\"user-agent\": \"Mozilla/5.0 (Windows NT 10.0; Win64; x64) AppleWebKit/537.36 (KHTML, like Gecko) Chrome/65.0.3325.181 Safari/537.36\"\n",
    "        ,\"cookie\":\"B=d5l9qq5d4980l&b=3&s=u7\"})\n",
    "    \n",
    "    name=\"STOCK/\"+url.split(\".\")[-2].split(\"/\")[-1]+\".csv\"\n",
    "    \n",
    "    save2file(name,res.text)"
   ]
  },
  {
   "cell_type": "code",
   "execution_count": 11,
   "metadata": {},
   "outputs": [
    {
     "name": "stdout",
     "output_type": "stream",
     "text": [
      "0050 download\n",
      "0051 download\n",
      "0052 download\n",
      "0053 download\n",
      "0054 download\n",
      "0055 download\n",
      "0056 download\n",
      "0057 download\n",
      "0058 download\n",
      "0059 download\n"
     ]
    }
   ],
   "source": [
    "    #main\n",
    "    for c in code_list:\n",
    "        download(c,1993,1,5,2018,3,24)\n",
    "        print(c+\" download\")"
   ]
  },
  {
   "cell_type": "code",
   "execution_count": null,
   "metadata": {},
   "outputs": [],
   "source": []
  }
 ],
 "metadata": {
  "kernelspec": {
   "display_name": "Python 3",
   "language": "python",
   "name": "python3"
  },
  "language_info": {
   "codemirror_mode": {
    "name": "ipython",
    "version": 3
   },
   "file_extension": ".py",
   "mimetype": "text/x-python",
   "name": "python",
   "nbconvert_exporter": "python",
   "pygments_lexer": "ipython3",
   "version": "3.6.4"
  }
 },
 "nbformat": 4,
 "nbformat_minor": 2
}
